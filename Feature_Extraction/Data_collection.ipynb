{
 "cells": [
  {
   "cell_type": "code",
   "execution_count": 152,
   "metadata": {},
   "outputs": [],
   "source": [
    "import os\n",
    "import plotly.graph_objects as go\n",
    "from plotly.subplots import make_subplots\n",
    "import pandas as pd\n",
    "import numpy as np\n",
    "import matplotlib.pyplot as plt\n",
    "import plotly\n",
    "import plotly.express as px\n",
    "import warnings\n",
    "warnings.filterwarnings(\"ignore\")\n",
    "from plotly.subplots import make_subplots\n",
    "import plotly.graph_objects as go\n",
    "import seaborn as sns\n",
    "plt.rcParams[\"figure.figsize\"] = (20, 9)\n"
   ]
  },
  {
   "cell_type": "markdown",
   "metadata": {},
   "source": [
    "### Aggregate all the csv files\n",
    "\n",
    "##### Read all files from folder and sort them as per the file name\n",
    "##### Merge all the files"
   ]
  },
  {
   "cell_type": "code",
   "execution_count": 157,
   "metadata": {},
   "outputs": [
    {
     "name": "stdout",
     "output_type": "stream",
     "text": [
      "534\n",
      "534\n",
      "534\n",
      "534\n"
     ]
    }
   ],
   "source": [
    "# csvfiles = ['Day1_driver1.csv','Day1_driver2.csv','Day2_driver2_1.csv','Day2_driver1_1.csv','Day2_driver2_2.csv','Day2_driver1_2.csv','Day3_driver2_1.csv','Day3_driver1_1.csv','Day3_driver2_2.csv','Day3_driver1_2.csv','Day3_driver1_3.csv']\n",
    "# csvfiles = ['Day1_final_data.csv']\n",
    "path = f\"./Data_collection/24_Nov/\"\n",
    "csvfiles = []\n",
    "for x in os.listdir(path):\n",
    "    if x.endswith(\".csv\"):\n",
    "            csvfiles.append(x)\n",
    "csvfiles.sort(key = lambda f: int(''.join(filter(str.isdigit, f))))\n",
    "blink_avg_duration_per_minute = []\n",
    "perclose_per_minute = []\n",
    "missing_frames_per_minutes = []\n",
    "number_of_blinks = []\n",
    "avg_EAR = []\n",
    "blink_duration = pd.DataFrame(columns=[\"Start_blink\", \"End_blink\", \"Blink_frame\", \"No_of_frames\"])\n",
    "perclos_value = list()\n",
    "for x in csvfiles:\n",
    "    df_alert = pd.read_csv(path+x)\n",
    "    missing_frames_per_minutes.append(df_alert[df_alert[\"NewEAR\"] == 0].shape[0])\n",
    "    df_alert = df_alert.loc[(df_alert[\"EAR\"] != 0)]\n",
    "    df_alert = df_alert.reset_index()  # reindexing to identify the blink duration\n",
    "    df_alert[\"NewEMA\"] = df_alert[\"NewEAR\"].ewm(4).mean()  # exponetial weighted average moving a\n",
    "    startframe = list()\n",
    "    endframe = list()\n",
    "    frame_no = []\n",
    "    # print(x)\n",
    "    if(df_alert.shape[0]>4):\n",
    "        for i in range(df_alert.shape[0]):\n",
    "            if df_alert[\"NewEAR\"].iloc[i] < df_alert[\"NewEAR\"].iloc[i-4]*0.75 and i > 4 and (df_alert[\"FN\"].iloc[i] - df_alert[\"FN\"].iloc[i-1]) < 2 and df_alert[\"NewEAR\"].iloc[i]<0.4:\n",
    "                if len(frame_no) == 0 or (df_alert[\"FN\"].iloc[i] - frame_no[-1] > 8):\n",
    "                    frame_no.append(df_alert[\"FN\"].iloc[i])\n",
    "                else:\n",
    "                    if (df_alert[\"NewEAR\"].iloc[i] < df_alert[\"NewEAR\"].iloc[i-1]):\n",
    "                        frame_no[-1] = df_alert[\"FN\"].iloc[i]\n",
    "    number_of_blinks.append(len(frame_no))\n",
    "    # print(frame_no)\n",
    "    for i in range(len(frame_no)):\n",
    "        start_frame, end_frame, blinked_frame = 0, 0, 0\n",
    "        blinked_frame = frame_no[i]\n",
    "        earemv = df_alert[\"NewEAR\"].loc[df_alert[\"FN\"]== blinked_frame].iloc[0]\n",
    "        \n",
    "        if i == 0:\n",
    "            sf = 0\n",
    "        else:\n",
    "            sf = df_alert.index[df_alert[\"FN\"] == blink_duration[\"End_blink\"].iloc[i-1]][0]\n",
    "        \n",
    "        if i == len(frame_no)-1:\n",
    "            en = df_alert.shape[0]\n",
    "        else:\n",
    "            en = df_alert.index[df_alert[\"FN\"] == frame_no[i+1]][0]\n",
    "        \n",
    "        for j in range(df_alert.index[df_alert[\"FN\"] == frame_no[i]][0], sf, -1):\n",
    "            if (df_alert[\"NewEAR\"].iloc[j] > (earemv/0.75)) or df_alert[\"NewEAR\"].iloc[j] > 0.40:\n",
    "                break\n",
    "        start_frame = df_alert[\"FN\"].iloc[j]\n",
    "\n",
    "        for j in range(df_alert.index[df_alert[\"FN\"] == frame_no[i]][0], en):\n",
    "            if ((df_alert[\"NewEAR\"].iloc[j]) > (earemv/0.75) or (df_alert[\"NewEAR\"].iloc[j] > 0.40)):\n",
    "                \n",
    "                break\n",
    "        if ((df_alert[\"FN\"].iloc[j] - df_alert[\"FN\"].iloc[j-1]) > 2):\n",
    "            end_frame = df_alert[\"FN\"].iloc[j-1]\n",
    "        else:\n",
    "            end_frame = df_alert[\"FN\"].iloc[j]\n",
    "        \n",
    "        if end_frame-start_frame > 100:\n",
    "            duration = 100\n",
    "        else:\n",
    "            duration = end_frame-start_frame\n",
    "        \n",
    "        blink_duration.loc[blink_duration.shape[0]] = [start_frame, end_frame, blinked_frame, duration]\n",
    "    \n",
    "    if len(blink_duration) == 0:\n",
    "        blink_avg_duration_per_minute.append(0)\n",
    "    else:\n",
    "        blink_avg_duration_per_minute.append(sum(blink_duration[\"No_of_frames\"])/blink_duration.shape[0])\n",
    "    no_of_blinks = blink_duration.shape[0]\n",
    "    if missing_frames_per_minutes[-1] >1780:\n",
    "        perclos_value.append(0)\n",
    "        avg_EAR.append(0) \n",
    "    else:\n",
    "        perclos_value.append(sum(blink_duration[\"No_of_frames\"])/(1800-missing_frames_per_minutes[-1]))\n",
    "        avg_EAR.append(df_alert[\"NewEAR\"].mean())    \n",
    "    # file = blink_duration.to_csv(x.split(\".\")[0]+\"_Blink_Duration.csv\")\n",
    "    frame_no.clear()\n",
    "    blink_duration = blink_duration.drop(blink_duration.index[0:])\n",
    "\n",
    "Data_day1_analysis = pd.DataFrame(columns=[\"File_name\",\"MissingFrames_per_min\",\"Blink_per_min\", \"blink_duration_per_min\", \"Perclose_per_min\", \"Avg_EAR\"])\n",
    "Data_day1_analysis[\"File_name\"] = csvfiles\n",
    "Data_day1_analysis[\"MissingFrames_per_min\"] = missing_frames_per_minutes\n",
    "Data_day1_analysis[\"Blink_per_min\"] = number_of_blinks\n",
    "Data_day1_analysis[\"blink_duration_per_min\"] = blink_avg_duration_per_minute\n",
    "Data_day1_analysis[\"Perclose_per_min\"] = perclos_value\n",
    "Data_day1_analysis[\"Avg_EAR\"] = avg_EAR\n",
    "Data_day1_analysis.to_csv(\"Day_4_data_analsyis_durationfixed.csv\")\n",
    "print(len(number_of_blinks))\n",
    "print(len(blink_avg_duration_per_minute))\n",
    "print(len(perclos_value))\n",
    "print(len(missing_frames_per_minutes))\n",
    "# file = df_alert.to_csv(\"Test.csv\")\n"
   ]
  },
  {
   "cell_type": "markdown",
   "metadata": {},
   "source": [
    "#### Based on EMA"
   ]
  },
  {
   "cell_type": "code",
   "execution_count": 7,
   "metadata": {},
   "outputs": [
    {
     "name": "stdout",
     "output_type": "stream",
     "text": [
      "14\n",
      "14\n",
      "14\n",
      "14\n"
     ]
    }
   ],
   "source": [
    "# csvfiles = ['Day1_driver1.csv','Day1_driver2.csv','Day2_driver2_1.csv','Day2_driver1_1.csv','Day2_driver2_2.csv','Day2_driver1_2.csv','Day3_driver2_1.csv','Day3_driver1_1.csv','Day3_driver2_2.csv','Day3_driver1_2.csv','Day3_driver1_3.csv']\n",
    "# csvfiles = ['Day1_final_data.csv']\n",
    "path = f\"./Data_collection/23_Nov/\"\n",
    "csvfiles = []\n",
    "for x in os.listdir(path):\n",
    "    if x.endswith(\".csv\"):\n",
    "            csvfiles.append(x)\n",
    "csvfiles.sort(key = lambda f: int(''.join(filter(str.isdigit, f))))\n",
    "blink_avg_duration_per_minute = []\n",
    "perclose_per_minute = []\n",
    "missing_frames_per_minutes = []\n",
    "number_of_blinks = []\n",
    "blink_duration = pd.DataFrame(columns=[\"Start_blink\", \"End_blink\", \"Blink_frame\", \"No_of_frames\"])\n",
    "perclos_value = list()\n",
    "for x in csvfiles:\n",
    "    df_alert = pd.read_csv(path+x)\n",
    "    missing_frames_per_minutes.append(df_alert[df_alert[\"NewEAR\"] == 0].shape[0])\n",
    "    df_alert = df_alert.loc[(df_alert[\"EAR\"] != 0)]\n",
    "    df_alert = df_alert.reset_index()  # reindexing to identify the blink duration\n",
    "    df_alert[\"NewEMA\"] = df_alert[\"NewEAR\"].ewm(4).mean()  # exponetial weighted average moving a\n",
    "    startframe = list()\n",
    "    endframe = list()\n",
    "    frame_no = []\n",
    "    # print(x)\n",
    "    if(df_alert.shape[0]>4):\n",
    "        for i in range(df_alert.shape[0]):\n",
    "            if df_alert[\"NewEMA\"].iloc[i] < df_alert[\"NewEMA\"].iloc[i-4]*0.84 and i > 4 and (df_alert[\"FN\"].iloc[i] - df_alert[\"FN\"].iloc[i-1]) < 2 and df_alert[\"NewEAR\"].iloc[i]<0.4:\n",
    "                if len(frame_no) == 0 or (df_alert[\"FN\"].iloc[i] - frame_no[-1] > 8):\n",
    "                    frame_no.append(df_alert[\"FN\"].iloc[i])\n",
    "                else:\n",
    "                    if (df_alert[\"NewEMA\"].iloc[i] < df_alert[\"NewEMA\"].iloc[i-1]):\n",
    "                        frame_no[-1] = df_alert[\"FN\"].iloc[i]\n",
    "    number_of_blinks.append(len(frame_no))\n",
    "    # print(frame_no)\n",
    "    for i in range(len(frame_no)):\n",
    "        start_frame, end_frame, blinked_frame = 0, 0, 0\n",
    "        blinked_frame = frame_no[i]\n",
    "        earemv = df_alert[\"NewEMA\"].loc[df_alert[\"FN\"]== blinked_frame].iloc[0]\n",
    "        # print(i)\n",
    "        if i == 0:\n",
    "            sf = 0\n",
    "        else:\n",
    "            # print(\"end_blink\",blink_duration[\"End_blink\"].iloc[i-1])\n",
    "            sf = df_alert.index[df_alert[\"FN\"] == blink_duration[\"End_blink\"].iloc[i-1]][0]\n",
    "        # \n",
    "        if i == len(frame_no)-1:\n",
    "            en = df_alert.shape[0]\n",
    "        else:\n",
    "            en = df_alert.index[df_alert[\"FN\"] == frame_no[i+1]][0]\n",
    "        # print(sf)\n",
    "        # print(\"start {} and end frame {}\".format(sf,en))\n",
    "        \n",
    "        for j in range(df_alert.index[df_alert[\"FN\"] == frame_no[i]][0], sf, -1):\n",
    "        # print(j)\n",
    "            if (df_alert[\"NewEMA\"].iloc[j] > (earemv/0.92)) or df_alert[\"NewEAR\"].iloc[j] > 0.40:\n",
    "                start_frame = df_alert[\"FN\"].iloc[j]\n",
    "                break\n",
    "            else:\n",
    "                start_frame = df_alert[\"FN\"].iloc[j]\n",
    "            # print(\"start frame\",start_frame)\n",
    "                continue\n",
    "        # print(\"threshold\",(earemv/0.92))\n",
    "        # print(\"------------\")\n",
    "        for j in range(df_alert.index[df_alert[\"FN\"] == frame_no[i]][0], en):\n",
    "        # print(df_alert[\"NewEMA\"].iloc[j])\n",
    "            if ((df_alert[\"NewEMA\"].iloc[j]) > (earemv/0.92)) or (df_alert[\"NewEAR\"].iloc[j] > 0.40):\n",
    "                end_frame = df_alert[\"FN\"].iloc[j]\n",
    "                break\n",
    "            else:\n",
    "                end_frame = df_alert[\"FN\"].iloc[j]\n",
    "                continue\n",
    "            \n",
    "        # print(start_frame)\n",
    "        if end_frame-start_frame > 100:\n",
    "            duration = 100\n",
    "        else:\n",
    "            duration = end_frame-start_frame\n",
    "        blink_duration.loc[blink_duration.shape[0]] = [start_frame, end_frame, blinked_frame, duration]\n",
    "    \n",
    "    if len(blink_duration) == 0:\n",
    "        blink_avg_duration_per_minute.append(0)\n",
    "    else:\n",
    "        blink_avg_duration_per_minute.append(sum(blink_duration[\"No_of_frames\"])/blink_duration.shape[0])\n",
    "    no_of_blinks = blink_duration.shape[0]\n",
    "    perclos_value.append(sum(blink_duration[\"No_of_frames\"])/1800)    \n",
    "    # file = blink_duration.to_csv(x.split(\".\")[0]+\"_Blink_Duration.csv\")\n",
    "    frame_no.clear()\n",
    "    blink_duration = blink_duration.drop(blink_duration.index[0:])\n",
    "\n",
    "Data_day1_analysis = pd.DataFrame(columns=[\"File_name\",\"MissingFrames_per_min\",\"Blink_per_min\", \"blink_duration_per_min\", \"Perclose_per_min\"])\n",
    "Data_day1_analysis[\"File_name\"] = csvfiles\n",
    "Data_day1_analysis[\"MissingFrames_per_min\"] = missing_frames_per_minutes\n",
    "Data_day1_analysis[\"Blink_per_min\"] = number_of_blinks\n",
    "Data_day1_analysis[\"blink_duration_per_min\"] = blink_avg_duration_per_minute\n",
    "Data_day1_analysis[\"Perclose_per_min\"] = perclos_value\n",
    "Data_day1_analysis.to_csv(\"Day3_data_analysis_Enew.csv\")\n",
    "print(len(number_of_blinks))\n",
    "print(len(blink_avg_duration_per_minute))\n",
    "print(len(perclos_value))\n",
    "print(len(missing_frames_per_minutes))\n",
    "# file = df_alert.to_csv(\"Test.csv\")\n"
   ]
  },
  {
   "cell_type": "code",
   "execution_count": 155,
   "metadata": {},
   "outputs": [],
   "source": [
    "data = pd.read_csv(\"Day_1_data_analsyis_durationfixed.csv\")\n",
    "corr = data.iloc[:,3:].corr()"
   ]
  },
  {
   "cell_type": "code",
   "execution_count": 156,
   "metadata": {},
   "outputs": [
    {
     "data": {
      "text/plain": [
       "<AxesSubplot:>"
      ]
     },
     "execution_count": 156,
     "metadata": {},
     "output_type": "execute_result"
    },
    {
     "data": {
      "image/png": "[encoded data removed]",
      "text/plain": [
       "<Figure size 1000x600 with 2 Axes>"
      ]
     },
     "metadata": {},
     "output_type": "display_data"
    }
   ],
   "source": [
    "plt.figure(figsize=(10,6))\n",
    "sns.heatmap(corr, annot=True)"
   ]
  },
  {
   "cell_type": "code",
   "execution_count": 15,
   "metadata": {},
   "outputs": [],
   "source": [
    "test_data = pd.read_csv(\"testdoc.csv\")"
   ]
  },
  {
   "cell_type": "code",
   "execution_count": 18,
   "metadata": {},
   "outputs": [],
   "source": [
    "test_data.drop(test_data.iloc[:,1:5],inplace=True, axis=1)"
   ]
  },
  {
   "cell_type": "code",
   "execution_count": 20,
   "metadata": {},
   "outputs": [],
   "source": [
    "test_data.drop(test_data.columns[[1,4]],axis=1,inplace=True)"
   ]
  },
  {
   "cell_type": "code",
   "execution_count": 21,
   "metadata": {},
   "outputs": [],
   "source": [
    "import collections"
   ]
  },
  {
   "cell_type": "code",
   "execution_count": 105,
   "metadata": {},
   "outputs": [
    {
     "name": "stdout",
     "output_type": "stream",
     "text": [
      "162742\n",
      "162841\n",
      "162940\n",
      "163138\n",
      "163237\n",
      "163336\n",
      "163435\n",
      "163633\n",
      "180009\n",
      "180108\n",
      "180207\n",
      "180306\n",
      "180405\n",
      "180504\n",
      "180603\n",
      "180702\n",
      "180801\n"
     ]
    }
   ],
   "source": [
    "slindingwindow = []\n",
    "count_one = 0\n",
    "count_frame = 0\n",
    "privous_Fram=float('inf')\n",
    "globale_counter = 0\n",
    "for file_name, data in zip(test_data.iloc[:,0],test_data.iloc[:,1]):\n",
    "    answer=''\n",
    "    if len(slindingwindow) < 10:\n",
    "        slindingwindow.append(data)\n",
    "    else:\n",
    "        count_one=0\n",
    "        for i in slindingwindow:\n",
    "            if i == 1:\n",
    "                count_one +=1\n",
    "        slindingwindow.pop(0)\n",
    "        slindingwindow.append(data)\n",
    "    if(count_one>=4):\n",
    "        value = file_name.split(\"_\")[1]\n",
    "        final_v = list(value)\n",
    "        # for value_v in final_v[8:]:\n",
    "        answer = answer.join(final_v[8:])\n",
    "        # answer.join(final_v[8:])\n",
    "        if \n",
    "        "
   ]
  },
  {
   "cell_type": "code",
   "execution_count": 29,
   "metadata": {},
   "outputs": [
    {
     "data": {
      "text/plain": [
       "collections.Counter"
      ]
     },
     "execution_count": 29,
     "metadata": {},
     "output_type": "execute_result"
    }
   ],
   "source": [
    "type(counter)"
   ]
  },
  {
   "cell_type": "code",
   "execution_count": 55,
   "metadata": {},
   "outputs": [
    {
     "data": {
      "text/html": [
       "<div>\n",
       "<style scoped>\n",
       "    .dataframe tbody tr th:only-of-type {\n",
       "        vertical-align: middle;\n",
       "    }\n",
       "\n",
       "    .dataframe tbody tr th {\n",
       "        vertical-align: top;\n",
       "    }\n",
       "\n",
       "    .dataframe thead th {\n",
       "        text-align: right;\n",
       "    }\n",
       "</style>\n",
       "<table border=\"1\" class=\"dataframe\">\n",
       "  <thead>\n",
       "    <tr style=\"text-align: right;\">\n",
       "      <th></th>\n",
       "      <th>File name</th>\n",
       "      <th>Final</th>\n",
       "    </tr>\n",
       "  </thead>\n",
       "  <tbody>\n",
       "    <tr>\n",
       "      <th>0</th>\n",
       "      <td>VIDEO_18112022132601_1668758161824_EAR.csv</td>\n",
       "      <td>0</td>\n",
       "    </tr>\n",
       "    <tr>\n",
       "      <th>1</th>\n",
       "      <td>VIDEO_18112022132700_1668758220821_EAR.csv</td>\n",
       "      <td>1</td>\n",
       "    </tr>\n",
       "    <tr>\n",
       "      <th>2</th>\n",
       "      <td>VIDEO_18112022132759_1668758279823_EAR.csv</td>\n",
       "      <td>0</td>\n",
       "    </tr>\n",
       "    <tr>\n",
       "      <th>3</th>\n",
       "      <td>VIDEO_18112022132858_1668758338982_EAR.csv</td>\n",
       "      <td>0</td>\n",
       "    </tr>\n",
       "    <tr>\n",
       "      <th>4</th>\n",
       "      <td>VIDEO_18112022132957_1668758397827_EAR.csv</td>\n",
       "      <td>0</td>\n",
       "    </tr>\n",
       "    <tr>\n",
       "      <th>...</th>\n",
       "      <td>...</td>\n",
       "      <td>...</td>\n",
       "    </tr>\n",
       "    <tr>\n",
       "      <th>222</th>\n",
       "      <td>VIDEO_18112022180405_1668774845227_EAR.csv</td>\n",
       "      <td>0</td>\n",
       "    </tr>\n",
       "    <tr>\n",
       "      <th>223</th>\n",
       "      <td>VIDEO_18112022180504_1668774904231_EAR.csv</td>\n",
       "      <td>1</td>\n",
       "    </tr>\n",
       "    <tr>\n",
       "      <th>224</th>\n",
       "      <td>VIDEO_18112022180603_1668774963224_EAR.csv</td>\n",
       "      <td>0</td>\n",
       "    </tr>\n",
       "    <tr>\n",
       "      <th>225</th>\n",
       "      <td>VIDEO_18112022180702_1668775022230_EAR.csv</td>\n",
       "      <td>0</td>\n",
       "    </tr>\n",
       "    <tr>\n",
       "      <th>226</th>\n",
       "      <td>VIDEO_18112022180801_1668775081228_EAR.csv</td>\n",
       "      <td>1</td>\n",
       "    </tr>\n",
       "  </tbody>\n",
       "</table>\n",
       "<p>227 rows × 2 columns</p>\n",
       "</div>"
      ],
      "text/plain": [
       "                                      File name  Final\n",
       "0    VIDEO_18112022132601_1668758161824_EAR.csv      0\n",
       "1    VIDEO_18112022132700_1668758220821_EAR.csv      1\n",
       "2    VIDEO_18112022132759_1668758279823_EAR.csv      0\n",
       "3    VIDEO_18112022132858_1668758338982_EAR.csv      0\n",
       "4    VIDEO_18112022132957_1668758397827_EAR.csv      0\n",
       "..                                          ...    ...\n",
       "222  VIDEO_18112022180405_1668774845227_EAR.csv      0\n",
       "223  VIDEO_18112022180504_1668774904231_EAR.csv      1\n",
       "224  VIDEO_18112022180603_1668774963224_EAR.csv      0\n",
       "225  VIDEO_18112022180702_1668775022230_EAR.csv      0\n",
       "226  VIDEO_18112022180801_1668775081228_EAR.csv      1\n",
       "\n",
       "[227 rows x 2 columns]"
      ]
     },
     "execution_count": 55,
     "metadata": {},
     "output_type": "execute_result"
    }
   ],
   "source": [
    "test_data.iloc[:,0:2]"
   ]
  },
  {
   "cell_type": "code",
   "execution_count": null,
   "metadata": {},
   "outputs": [],
   "source": []
  }
 ],
 "metadata": {
  "kernelspec": {
   "display_name": "Python 3.8.10 64-bit",
   "language": "python",
   "name": "python3"
  },
  "language_info": {
   "codemirror_mode": {
    "name": "ipython",
    "version": 3
   },
   "file_extension": ".py",
   "mimetype": "text/x-python",
   "name": "python",
   "nbconvert_exporter": "python",
   "pygments_lexer": "ipython3",
   "version": "3.8.10"
  },
  "orig_nbformat": 4,
  "vscode": {
   "interpreter": {
    "hash": "916dbcbb3f70747c44a77c7bcd40155683ae19c65e1c03b4aa3499c5328201f1"
   }
  }
 },
 "nbformat": 4,
 "nbformat_minor": 2
}
