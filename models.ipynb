{
 "cells": [
  {
   "cell_type": "code",
   "execution_count": 23,
   "metadata": {},
   "outputs": [],
   "source": [
    "import numpy as np\n",
    "import pandas as pd\n",
    "import os\n",
    "import matplotlib.pyplot as plt\n",
    "import seaborn as sns\n",
    "import plotly.express as px"
   ]
  },
  {
   "cell_type": "code",
   "execution_count": 31,
   "metadata": {},
   "outputs": [],
   "source": [
    "df_b1 = pd.read_csv(\"./train_data/blink1.csv\")\n",
    "df_b2 = pd.read_csv(\"./train_data/blink2.csv\")\n",
    "\n",
    "df_nb1 = pd.read_csv(\"./train_data/nonblink1.csv\")\n",
    "df_nb2 = pd.read_csv(\"./train_data/nonblink2.csv\")\n",
    "\n",
    "final_df = pd.concat([df_b1, df_b2, df_nb1, df_nb2])"
   ]
  },
  {
   "cell_type": "code",
   "execution_count": 32,
   "metadata": {},
   "outputs": [
    {
     "data": {
      "text/html": [
       "<div>\n",
       "<style scoped>\n",
       "    .dataframe tbody tr th:only-of-type {\n",
       "        vertical-align: middle;\n",
       "    }\n",
       "\n",
       "    .dataframe tbody tr th {\n",
       "        vertical-align: top;\n",
       "    }\n",
       "\n",
       "    .dataframe thead th {\n",
       "        text-align: right;\n",
       "    }\n",
       "</style>\n",
       "<table border=\"1\" class=\"dataframe\">\n",
       "  <thead>\n",
       "    <tr style=\"text-align: right;\">\n",
       "      <th></th>\n",
       "      <th>0</th>\n",
       "      <th>1</th>\n",
       "      <th>2</th>\n",
       "      <th>3</th>\n",
       "      <th>4</th>\n",
       "      <th>5</th>\n",
       "      <th>6</th>\n",
       "      <th>7</th>\n",
       "      <th>8</th>\n",
       "      <th>9</th>\n",
       "      <th>10</th>\n",
       "      <th>11</th>\n",
       "      <th>12</th>\n",
       "      <th>class</th>\n",
       "    </tr>\n",
       "  </thead>\n",
       "  <tbody>\n",
       "    <tr>\n",
       "      <th>count</th>\n",
       "      <td>613.000000</td>\n",
       "      <td>613.000000</td>\n",
       "      <td>613.000000</td>\n",
       "      <td>613.000000</td>\n",
       "      <td>613.000000</td>\n",
       "      <td>613.000000</td>\n",
       "      <td>613.000000</td>\n",
       "      <td>613.000000</td>\n",
       "      <td>613.000000</td>\n",
       "      <td>613.000000</td>\n",
       "      <td>613.000000</td>\n",
       "      <td>613.000000</td>\n",
       "      <td>613.000000</td>\n",
       "      <td>613.000000</td>\n",
       "    </tr>\n",
       "    <tr>\n",
       "      <th>mean</th>\n",
       "      <td>0.507411</td>\n",
       "      <td>0.506572</td>\n",
       "      <td>0.500851</td>\n",
       "      <td>0.475284</td>\n",
       "      <td>0.398679</td>\n",
       "      <td>0.311816</td>\n",
       "      <td>0.302090</td>\n",
       "      <td>0.303275</td>\n",
       "      <td>0.350494</td>\n",
       "      <td>0.415902</td>\n",
       "      <td>0.452685</td>\n",
       "      <td>0.472686</td>\n",
       "      <td>0.484957</td>\n",
       "      <td>0.477977</td>\n",
       "    </tr>\n",
       "    <tr>\n",
       "      <th>std</th>\n",
       "      <td>0.033504</td>\n",
       "      <td>0.034535</td>\n",
       "      <td>0.049888</td>\n",
       "      <td>0.095556</td>\n",
       "      <td>0.170266</td>\n",
       "      <td>0.216780</td>\n",
       "      <td>0.222132</td>\n",
       "      <td>0.221259</td>\n",
       "      <td>0.187347</td>\n",
       "      <td>0.125207</td>\n",
       "      <td>0.083843</td>\n",
       "      <td>0.061810</td>\n",
       "      <td>0.048737</td>\n",
       "      <td>0.499923</td>\n",
       "    </tr>\n",
       "    <tr>\n",
       "      <th>min</th>\n",
       "      <td>0.375484</td>\n",
       "      <td>0.378683</td>\n",
       "      <td>0.072218</td>\n",
       "      <td>0.053050</td>\n",
       "      <td>0.046497</td>\n",
       "      <td>0.045611</td>\n",
       "      <td>0.034541</td>\n",
       "      <td>0.026946</td>\n",
       "      <td>0.030296</td>\n",
       "      <td>0.037726</td>\n",
       "      <td>0.056726</td>\n",
       "      <td>0.116468</td>\n",
       "      <td>0.270564</td>\n",
       "      <td>0.000000</td>\n",
       "    </tr>\n",
       "    <tr>\n",
       "      <th>25%</th>\n",
       "      <td>0.483562</td>\n",
       "      <td>0.482976</td>\n",
       "      <td>0.479415</td>\n",
       "      <td>0.469963</td>\n",
       "      <td>0.345428</td>\n",
       "      <td>0.071864</td>\n",
       "      <td>0.071240</td>\n",
       "      <td>0.065892</td>\n",
       "      <td>0.144875</td>\n",
       "      <td>0.336653</td>\n",
       "      <td>0.394885</td>\n",
       "      <td>0.435080</td>\n",
       "      <td>0.455162</td>\n",
       "      <td>0.000000</td>\n",
       "    </tr>\n",
       "    <tr>\n",
       "      <th>50%</th>\n",
       "      <td>0.507289</td>\n",
       "      <td>0.506974</td>\n",
       "      <td>0.504889</td>\n",
       "      <td>0.501238</td>\n",
       "      <td>0.483137</td>\n",
       "      <td>0.471038</td>\n",
       "      <td>0.473185</td>\n",
       "      <td>0.470123</td>\n",
       "      <td>0.473969</td>\n",
       "      <td>0.473871</td>\n",
       "      <td>0.481905</td>\n",
       "      <td>0.489212</td>\n",
       "      <td>0.494759</td>\n",
       "      <td>0.000000</td>\n",
       "    </tr>\n",
       "    <tr>\n",
       "      <th>75%</th>\n",
       "      <td>0.537822</td>\n",
       "      <td>0.536926</td>\n",
       "      <td>0.536515</td>\n",
       "      <td>0.532281</td>\n",
       "      <td>0.519379</td>\n",
       "      <td>0.515010</td>\n",
       "      <td>0.515329</td>\n",
       "      <td>0.513387</td>\n",
       "      <td>0.514202</td>\n",
       "      <td>0.516106</td>\n",
       "      <td>0.515204</td>\n",
       "      <td>0.517932</td>\n",
       "      <td>0.521779</td>\n",
       "      <td>1.000000</td>\n",
       "    </tr>\n",
       "    <tr>\n",
       "      <th>max</th>\n",
       "      <td>0.568827</td>\n",
       "      <td>0.563911</td>\n",
       "      <td>0.580142</td>\n",
       "      <td>0.589687</td>\n",
       "      <td>0.581744</td>\n",
       "      <td>0.575589</td>\n",
       "      <td>0.566678</td>\n",
       "      <td>0.560297</td>\n",
       "      <td>0.562157</td>\n",
       "      <td>0.558571</td>\n",
       "      <td>0.560535</td>\n",
       "      <td>0.561335</td>\n",
       "      <td>0.563329</td>\n",
       "      <td>1.000000</td>\n",
       "    </tr>\n",
       "  </tbody>\n",
       "</table>\n",
       "</div>"
      ],
      "text/plain": [
       "                0           1           2           3           4           5  \\\n",
       "count  613.000000  613.000000  613.000000  613.000000  613.000000  613.000000   \n",
       "mean     0.507411    0.506572    0.500851    0.475284    0.398679    0.311816   \n",
       "std      0.033504    0.034535    0.049888    0.095556    0.170266    0.216780   \n",
       "min      0.375484    0.378683    0.072218    0.053050    0.046497    0.045611   \n",
       "25%      0.483562    0.482976    0.479415    0.469963    0.345428    0.071864   \n",
       "50%      0.507289    0.506974    0.504889    0.501238    0.483137    0.471038   \n",
       "75%      0.537822    0.536926    0.536515    0.532281    0.519379    0.515010   \n",
       "max      0.568827    0.563911    0.580142    0.589687    0.581744    0.575589   \n",
       "\n",
       "                6           7           8           9          10          11  \\\n",
       "count  613.000000  613.000000  613.000000  613.000000  613.000000  613.000000   \n",
       "mean     0.302090    0.303275    0.350494    0.415902    0.452685    0.472686   \n",
       "std      0.222132    0.221259    0.187347    0.125207    0.083843    0.061810   \n",
       "min      0.034541    0.026946    0.030296    0.037726    0.056726    0.116468   \n",
       "25%      0.071240    0.065892    0.144875    0.336653    0.394885    0.435080   \n",
       "50%      0.473185    0.470123    0.473969    0.473871    0.481905    0.489212   \n",
       "75%      0.515329    0.513387    0.514202    0.516106    0.515204    0.517932   \n",
       "max      0.566678    0.560297    0.562157    0.558571    0.560535    0.561335   \n",
       "\n",
       "               12       class  \n",
       "count  613.000000  613.000000  \n",
       "mean     0.484957    0.477977  \n",
       "std      0.048737    0.499923  \n",
       "min      0.270564    0.000000  \n",
       "25%      0.455162    0.000000  \n",
       "50%      0.494759    0.000000  \n",
       "75%      0.521779    1.000000  \n",
       "max      0.563329    1.000000  "
      ]
     },
     "execution_count": 32,
     "metadata": {},
     "output_type": "execute_result"
    }
   ],
   "source": [
    "final_df.describe()"
   ]
  },
  {
   "cell_type": "markdown",
   "metadata": {},
   "source": [
    "### Pre-Processing"
   ]
  },
  {
   "cell_type": "code",
   "execution_count": 41,
   "metadata": {},
   "outputs": [
    {
     "name": "stdout",
     "output_type": "stream",
     "text": [
      "(613, 13) (613,)\n"
     ]
    }
   ],
   "source": [
    "from sklearn.model_selection import train_test_split\n",
    "from sklearn.preprocessing import StandardScaler\n",
    "\n",
    "sc = StandardScaler()\n",
    "\n",
    "features, target = final_df.drop(columns=[\"class\"]), final_df[\"class\"]\n",
    "\n",
    "features = sc.fit_transform(features)\n",
    "\n",
    "print(features.shape, target.shape)"
   ]
  },
  {
   "cell_type": "code",
   "execution_count": 43,
   "metadata": {},
   "outputs": [
    {
     "name": "stdout",
     "output_type": "stream",
     "text": [
      "(398, 13) (215, 13) (398,) (215,)\n"
     ]
    }
   ],
   "source": [
    "X_train, X_test, Y_train, Y_test = train_test_split(features, target, test_size = 0.35, random_state = 42)\n",
    "\n",
    "print(X_train.shape, X_test.shape, Y_train.shape, Y_test.shape)"
   ]
  },
  {
   "cell_type": "markdown",
   "metadata": {},
   "source": [
    "### Model Training"
   ]
  },
  {
   "cell_type": "code",
   "execution_count": 44,
   "metadata": {},
   "outputs": [],
   "source": [
    "from sklearn.svm import SVC\n",
    "from sklearn.metrics import classification_report, confusion_matrix"
   ]
  },
  {
   "cell_type": "code",
   "execution_count": 45,
   "metadata": {},
   "outputs": [
    {
     "name": "stdout",
     "output_type": "stream",
     "text": [
      "Modlel scores:\n",
      "\n",
      "Train = 100.0%\n",
      "Test = 100.0%\n",
      "\n",
      "\n"
     ]
    }
   ],
   "source": [
    "model = SVC(kernel=\"linear\")\n",
    "model.fit(X_train, Y_train)\n",
    "\n",
    "print(f\"\"\"Modlel scores:\n",
    "\n",
    "Train = {model.score(X_train, Y_train) * 100}%\n",
    "Test = {model.score(X_test, Y_test) * 100}%\n",
    "\n",
    "\"\"\")"
   ]
  },
  {
   "cell_type": "code",
   "execution_count": 46,
   "metadata": {},
   "outputs": [
    {
     "name": "stdout",
     "output_type": "stream",
     "text": [
      "              precision    recall  f1-score   support\n",
      "\n",
      "           0       1.00      1.00      1.00       103\n",
      "           1       1.00      1.00      1.00       112\n",
      "\n",
      "    accuracy                           1.00       215\n",
      "   macro avg       1.00      1.00      1.00       215\n",
      "weighted avg       1.00      1.00      1.00       215\n",
      "\n"
     ]
    }
   ],
   "source": [
    "print(classification_report(Y_test, model.predict(X_test)))"
   ]
  },
  {
   "cell_type": "code",
   "execution_count": 47,
   "metadata": {},
   "outputs": [],
   "source": [
    "import pickle\n",
    "\n",
    "with open(\"./models/svm_ear_blinks.pkl\", \"wb\") as f:\n",
    "    pickle.dump(model, f)"
   ]
  },
  {
   "cell_type": "markdown",
   "metadata": {},
   "source": [
    "### MISC"
   ]
  },
  {
   "cell_type": "code",
   "execution_count": 48,
   "metadata": {},
   "outputs": [
    {
     "name": "stdout",
     "output_type": "stream",
     "text": [
      "Modlel scores:\n",
      "\n",
      "Train = 100.0%\n",
      "Test = 100.0%\n",
      "\n",
      "\n"
     ]
    }
   ],
   "source": [
    "from sklearn.linear_model import LogisticRegression\n",
    "\n",
    "lrm = LogisticRegression()\n",
    "lrm.fit(X_train, Y_train)\n",
    "\n",
    "print(f\"\"\"Modlel scores:\n",
    "\n",
    "Train = {lrm.score(X_train, Y_train) * 100}%\n",
    "Test = {lrm.score(X_test, Y_test) * 100}%\n",
    "\n",
    "\"\"\")"
   ]
  },
  {
   "cell_type": "code",
   "execution_count": 49,
   "metadata": {},
   "outputs": [
    {
     "name": "stdout",
     "output_type": "stream",
     "text": [
      "Modlel scores:\n",
      "\n",
      "Train = 100.0%\n",
      "Test = 100.0%\n",
      "\n",
      "\n"
     ]
    }
   ],
   "source": [
    "from sklearn.neighbors import KNeighborsClassifier\n",
    "\n",
    "knnc = KNeighborsClassifier()\n",
    "knnc.fit(X_train, Y_train)\n",
    "\n",
    "print(f\"\"\"Modlel scores:\n",
    "\n",
    "Train = {knnc.score(X_train, Y_train) * 100}%\n",
    "Test = {knnc.score(X_test, Y_test) * 100}%\n",
    "\n",
    "\"\"\")"
   ]
  },
  {
   "cell_type": "code",
   "execution_count": 58,
   "metadata": {},
   "outputs": [
    {
     "data": {
      "text/plain": [
       "array([0.50741131, 0.50657204, 0.50085083, 0.47528443, 0.3986786 ,\n",
       "       0.31181558, 0.30208963, 0.30327507, 0.3504944 , 0.41590232,\n",
       "       0.4526851 , 0.47268597, 0.48495746])"
      ]
     },
     "execution_count": 58,
     "metadata": {},
     "output_type": "execute_result"
    }
   ],
   "source": [
    "sc.mean_"
   ]
  },
  {
   "cell_type": "code",
   "execution_count": 54,
   "metadata": {},
   "outputs": [
    {
     "data": {
      "text/plain": [
       "array([0.03347708, 0.0345071 , 0.04984739, 0.0954779 , 0.17012681,\n",
       "       0.21660294, 0.22195069, 0.22107812, 0.18719406, 0.12510521,\n",
       "       0.08377453, 0.06175941, 0.04869713])"
      ]
     },
     "execution_count": 54,
     "metadata": {},
     "output_type": "execute_result"
    }
   ],
   "source": [
    "sc.scale_"
   ]
  },
  {
   "cell_type": "code",
   "execution_count": null,
   "metadata": {},
   "outputs": [],
   "source": []
  }
 ],
 "metadata": {
  "kernelspec": {
   "display_name": "Python 3.9.12 ('tf')",
   "language": "python",
   "name": "python3"
  },
  "language_info": {
   "codemirror_mode": {
    "name": "ipython",
    "version": 3
   },
   "file_extension": ".py",
   "mimetype": "text/x-python",
   "name": "python",
   "nbconvert_exporter": "python",
   "pygments_lexer": "ipython3",
   "version": "3.9.12"
  },
  "orig_nbformat": 4,
  "vscode": {
   "interpreter": {
    "hash": "6364cd4ac521b6b9d128eb7b9da672f00f9d19a37df096c3ddd6307302d25645"
   }
  }
 },
 "nbformat": 4,
 "nbformat_minor": 2
}
